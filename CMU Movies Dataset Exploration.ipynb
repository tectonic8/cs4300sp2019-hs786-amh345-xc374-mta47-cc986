{
 "cells": [
  {
   "cell_type": "code",
   "execution_count": 1,
   "metadata": {},
   "outputs": [],
   "source": [
    "import tarfile\n",
    "import ast\n",
    "import pickle\n",
    "from sklearn.feature_extraction.text import TfidfVectorizer\n",
    "import numpy as np\n",
    "import json\n",
    "import math\n",
    "%matplotlib inline\n",
    "import matplotlib.pyplot as plt"
   ]
  },
  {
   "cell_type": "code",
   "execution_count": null,
   "metadata": {},
   "outputs": [],
   "source": [
    "tar = tarfile.open(\".\\MovieSummaries.tar.gz\", encoding='utf-8')\n",
    "tar.extractall()\n",
    "tar.close()"
   ]
  },
  {
   "cell_type": "code",
   "execution_count": null,
   "metadata": {},
   "outputs": [],
   "source": [
    "f = open(\"./MovieSummaries/movie.metadata.tsv\", 'r', encoding=\"utf8\")\n",
    "data = f.readlines()\n",
    "f.close()"
   ]
  },
  {
   "cell_type": "code",
   "execution_count": null,
   "metadata": {},
   "outputs": [],
   "source": [
    "for i in range(len(data)):\n",
    "    data[i] = data[i].split('\\t')"
   ]
  },
  {
   "cell_type": "code",
   "execution_count": null,
   "metadata": {},
   "outputs": [],
   "source": [
    "movie_metadata = {}\n",
    "for i in range(len(data)):\n",
    "    movie_metadata[data[i][0]] = {\n",
    "        'title' : data[i][2],\n",
    "        'release' : data[i][3],\n",
    "        'revenue' : data[i][4],\n",
    "        'genres' : [genre.lower() for genre in (ast.literal_eval(data[0][8][:-1])).values()]\n",
    "    }"
   ]
  },
  {
   "cell_type": "code",
   "execution_count": null,
   "metadata": {},
   "outputs": [],
   "source": [
    "f = open(\"./MovieSummaries/plot_summaries.txt\", 'r', encoding=\"utf8\")\n",
    "plot_data = f.readlines()\n",
    "f.close()"
   ]
  },
  {
   "cell_type": "code",
   "execution_count": null,
   "metadata": {},
   "outputs": [],
   "source": [
    "movie_plot_summaries = []\n",
    "for i in range(len(plot_data)):\n",
    "    movie_plot_summaries.append(plot_data[i].split('\\t'))"
   ]
  },
  {
   "cell_type": "code",
   "execution_count": null,
   "metadata": {},
   "outputs": [],
   "source": [
    "for summary in movie_plot_summaries:\n",
    "    if summary[0] in movie_metadata: \n",
    "        movie_metadata[summary[0]]['summary'] = summary[1]"
   ]
  },
  {
   "cell_type": "code",
   "execution_count": null,
   "metadata": {},
   "outputs": [],
   "source": [
    "pickle.dump(movie_metadata, open(\"./MovieSummaries/movie_metadata.p\", \"wb\" ))\n",
    "# movie_metadata = pickle.load(open(\"./MovieSummaries/movie_metadata.p\", \"rb\" ))"
   ]
  },
  {
   "cell_type": "code",
   "execution_count": null,
   "metadata": {},
   "outputs": [],
   "source": [
    "movie_metadata2 = {}\n",
    "for k,v in movie_metadata.items():\n",
    "    if 'summary' in v:\n",
    "        movie_metadata2[k] = v"
   ]
  },
  {
   "cell_type": "code",
   "execution_count": 2,
   "metadata": {},
   "outputs": [],
   "source": [
    "# pickle.dump(movie_metadata2, open(\"./MovieSummaries/movie_metadata2.p\", \"wb\" ))\n",
    "movie_metadata2 = pickle.load(open(\"./MovieSummaries/movie_metadata2.p\", \"rb\" ))"
   ]
  },
  {
   "cell_type": "code",
   "execution_count": null,
   "metadata": {},
   "outputs": [],
   "source": [
    "tfidf_vec = TfidfVectorizer(min_df=5, max_df=0.95, stop_words='english')\n",
    "doc_by_vocab = tfidf_vec.fit_transform([v['summary'] if 'summary' in v else '' for k,v in movie_metadata2.items()]).toarray()"
   ]
  },
  {
   "cell_type": "code",
   "execution_count": null,
   "metadata": {},
   "outputs": [],
   "source": [
    "def build_movie_sims_jac(metadata):\n",
    "    n = len(metadata)\n",
    "    mat = np.zeros((n, n))\n",
    "    metadata_list = [set((v['summary']).split(' ')) for k, v in metadata.items()]\n",
    "    for i in range(n):\n",
    "        for j in range(i+1):\n",
    "            if i == j:\n",
    "                mat[i][j] = 1\n",
    "            else:\n",
    "                jaccard_sim = len(metadata_list[i].intersection(metadata_list[j]))/len(metadata_list[i].union(metadata_list[j]))\n",
    "                mat[i][j] = jaccard_sim\n",
    "                mat[j][i] = jaccard_sim\n",
    "    return mat\n",
    "\n",
    "movie_sims_jac = build_movie_sims_jac(movie_metadata2) "
   ]
  },
  {
   "cell_type": "code",
   "execution_count": null,
   "metadata": {},
   "outputs": [],
   "source": []
  }
 ],
 "metadata": {
  "kernelspec": {
   "display_name": "venv",
   "language": "python",
   "name": "venv"
  },
  "language_info": {
   "codemirror_mode": {
    "name": "ipython",
    "version": 3
   },
   "file_extension": ".py",
   "mimetype": "text/x-python",
   "name": "python",
   "nbconvert_exporter": "python",
   "pygments_lexer": "ipython3",
   "version": "3.5.2"
  }
 },
 "nbformat": 4,
 "nbformat_minor": 2
}
