{
 "cells": [
  {
   "cell_type": "code",
   "execution_count": 93,
   "metadata": {},
   "outputs": [],
   "source": [
    "import gensim\n",
    "from gensim.corpora import Dictionary\n",
    "from gensim.models import LsiModel\n",
    "from gensim.models import KeyedVectors\n",
    "from gensim.scripts.glove2word2vec import glove2word2vec\n",
    "import itertools\n",
    "import json\n",
    "from nltk.tokenize import word_tokenize\n",
    "import numpy as np\n",
    "import re\n",
    "from sklearn.feature_extraction.text import TfidfVectorizer\n",
    "from sklearn.metrics import pairwise_distances\n",
    "import pickle"
   ]
  },
  {
   "cell_type": "code",
   "execution_count": 94,
   "metadata": {},
   "outputs": [],
   "source": [
    "'''\n",
    "Load a json file into a dictionary\n",
    "\n",
    "Input: \n",
    "    - file_path: path to json file containing dataset\n",
    "\n",
    "Returns: \n",
    "    - \n",
    "'''\n",
    "def load_json(file_path): \n",
    "    with open(file_path, 'r') as f: \n",
    "        data = json.load(f)\n",
    "    return data\n",
    "\n"
   ]
  },
  {
   "cell_type": "code",
   "execution_count": 95,
   "metadata": {},
   "outputs": [],
   "source": [
    "'''\n",
    "build a dataset using tropes \n",
    "\n",
    "Inputs: \n",
    "    - data: dictionary mapping titles to list of tropes\n",
    "\n",
    "Returns: \n",
    "    - dictionary: a bag of words dictionary representation tropes \n",
    "    - tf_idf: tf-idf model of dictionary\n",
    "    - similarity_matrix: cosine similarity matrix of entries in dataset\n",
    "'''\n",
    "def build_representation_for_tropes(data): \n",
    "    \n",
    "    # build corpus of titles that contain field \n",
    "    corpus = []\n",
    "    for title, tropes in data.items(): \n",
    "        corpus.append([word.lower() for word in itertools.chain.from_iterable([re.findall('[A-Z][^A-Z]*', trope) for trope in tropes])])\n",
    "            \n",
    "    print('{} titles'.format(len(corpus)))\n",
    "        \n",
    "    # build dictionary from corpus\n",
    "    dictionary = Dictionary(corpus)\n",
    "    # convert entries to bag of words representation\n",
    "    corpus = [dictionary.doc2bow(entry) for entry in corpus]\n",
    "    # create tf-idf model\n",
    "    tf_idf = gensim.models.TfidfModel(corpus)\n",
    "    # compute similarity matrix\n",
    "    similarity_matrix = gensim.similarities.Similarity('', tf_idf[corpus], num_features = len(dictionary))\n",
    "    \n",
    "    return dictionary, tf_idf, similarity_matrix\n"
   ]
  },
  {
   "cell_type": "code",
   "execution_count": 96,
   "metadata": {},
   "outputs": [],
   "source": [
    "'''\n",
    "Returns the k words closest to the keyword in the list \n",
    "\n",
    "Inputs: \n",
    "    - keyword: the keyword to search\n",
    "    - dictionary: dictionary of trope words in dataset to search against \n",
    "    - model: the pretrained gensim model\n",
    "    - top_k: number of words to return\n",
    "\n",
    "Returns: \n",
    "    - sorted_keyword_match: list of the k words that are closest to the keyword\n",
    "'''\n",
    "def get_closest_to_keyword(keyword, dictionary, model, top_k = 5): \n",
    "    \n",
    "    # compute cosine similarity between query and all trope words\n",
    "    all_words = list(dictionary.values())\n",
    "    all_words = [word for word in all_words if word in model.wv.vocab]\n",
    "    dists = model.distances(keyword, all_words)\n",
    "    \n",
    "    # sort by similarity in ascending order (0 = perfect similarity)\n",
    "    sorted_indices = np.argsort(dists)\n",
    "    sorted_keyword_match = [all_words[idx] for idx in sorted_indices[:top_k]]\n",
    "    \n",
    "    print('top {} matches most similar to `{}`'.format(top_k, keyword))\n",
    "    for word in sorted_keyword_match: \n",
    "        print(word)\n",
    "        \n",
    "    return sorted_keyword_match\n",
    "    "
   ]
  },
  {
   "cell_type": "code",
   "execution_count": 205,
   "metadata": {},
   "outputs": [],
   "source": [
    "'''\n",
    "Finds the best titles according to tropes based on an input title and keyword. \n",
    "The trope words of the title being searched and the trope words most similar to \n",
    "the keyword are used to find the best matches. \n",
    "\n",
    "Inputs: \n",
    "    - title: the title being queried\n",
    "    - title_dataset: the dataset corresponding to the title (eg. book dataset if book title)\n",
    "    - keyword: the keyword to search\n",
    "    - dictionary: dictionary representation of genres associated with each title of desired return type\n",
    "    - tf_idf: tf-idf representation of genres associated with each title of desired return type\n",
    "    - similarity_matrix: similarity matrix according to tf-idf representation \n",
    "    - model: the pretrained gensim model\n",
    "    - top_k_tropes: number of tropes to use when querying\n",
    "    \n",
    "Reutrns: \n",
    "    - scores: numpy array of similarity scores in where the index in the array corresponds\n",
    "              to the index in the dataset of the media type being recommended\n",
    "'''\n",
    "def best_titles_by_tropes_enhanced(title, title_dataset, keyword, dictionary, tf_idf, similarity_matrix, model, top_k_tropes = 5): \n",
    "    \n",
    "    # get list of most similar trope words to keyword\n",
    "    most_similar_tropes = get_closest_to_keyword(keyword, dictionary, model, top_k_tropes)\n",
    "    # also take tropes of title into account\n",
    "    title_tropes = [word.lower() for word in set(itertools.chain.from_iterable([re.findall('[A-Z][^A-Z]*', trope) for trope in title_dataset[title]]))]\n",
    "    most_similar_tropes.extend(title_tropes)\n",
    "    \n",
    "    # convert query to bag of words representation\n",
    "    query_bow = dictionary.doc2bow(most_similar_tropes)\n",
    "    # create tf-idf model of query \n",
    "    query_tf_idf = tf_idf[query_bow]\n",
    "    \n",
    "    # get indices of most similar title indices to query (descending similarity)\n",
    "    scores = similarity_matrix[query_tf_idf]\n",
    "    \n",
    "    return scores\n"
   ]
  },
  {
   "cell_type": "code",
   "execution_count": 206,
   "metadata": {},
   "outputs": [],
   "source": [
    "def print_results(title, keyword, scores, results_data, top_k_titles = 10): \n",
    "    \n",
    "    # sort the scores in descending order\n",
    "    ranked_indices = np.argsort(scores)[::-1]\n",
    "    \n",
    "    # get list of titles\n",
    "    titles = list(results_data.keys())\n",
    "\n",
    "    print('\\ntop {} most similar titles to `{}` by trope to keyword `{}` '.format(top_k_titles, title, keyword))\n",
    "    for idx in range(top_k_titles): \n",
    "        print((scores[ranked_indices[idx]], titles[ranked_indices[idx]]))\n",
    "    "
   ]
  },
  {
   "cell_type": "code",
   "execution_count": 207,
   "metadata": {},
   "outputs": [],
   "source": [
    "# load pretrained word embeddings\n",
    "model = KeyedVectors.load_word2vec_format('app/irsystem/controllers/DatasetInfo/gensim_glove.6B.50d.txt', binary = False, limit=50000)"
   ]
  },
  {
   "cell_type": "code",
   "execution_count": 208,
   "metadata": {},
   "outputs": [],
   "source": [
    "# load book and movie datasets\n",
    "with open(\"./app/irsystem/controllers/TVTropesScraper/Film/Film_tropes_dataset3.json\", 'r') as f:\n",
    "    movies = json.load(f)\n",
    "with open(\"./app/irsystem/controllers/TVTropesScraper/Literature/Literature_tropes_dataset3.json\", 'r') as f:\n",
    "    books = json.load(f)"
   ]
  },
  {
   "cell_type": "code",
   "execution_count": 209,
   "metadata": {},
   "outputs": [
    {
     "name": "stdout",
     "output_type": "stream",
     "text": [
      "2933 titles\n",
      "4797 titles\n"
     ]
    }
   ],
   "source": [
    "# create dictionary representations of datasets\n",
    "book_dictionary, book_tf_idf, book_similarity_matrix = build_representation_for_tropes(books)\n",
    "movie_dictionary, movie_tf_idf, movie_similarity_matrix = build_representation_for_tropes(movies)"
   ]
  },
  {
   "cell_type": "code",
   "execution_count": 161,
   "metadata": {},
   "outputs": [
    {
     "name": "stdout",
     "output_type": "stream",
     "text": [
      "True\n",
      "True\n"
     ]
    }
   ],
   "source": [
    "print('zombies' in set(dict(book_dictionary).values()))\n",
    "print('zombies' in set(dict(movie_dictionary).values()))"
   ]
  },
  {
   "cell_type": "code",
   "execution_count": 124,
   "metadata": {},
   "outputs": [
    {
     "data": {
      "text/plain": [
       "<gensim.similarities.docsim.Similarity at 0x14e3c101710>"
      ]
     },
     "execution_count": 124,
     "metadata": {},
     "output_type": "execute_result"
    }
   ],
   "source": [
    "book_similarity_matrix"
   ]
  },
  {
   "cell_type": "code",
   "execution_count": 166,
   "metadata": {},
   "outputs": [],
   "source": [
    "book_tf_idf.save(\"./app/irsystem/controllers/SPARSE OR NECESSARY/book_tf_idf.p\")\n",
    "book_dictionary.save(\"./app/irsystem/controllers/SPARSE OR NECESSARY/book_dictionary.p\")\n",
    "book_similarity_matrix.save(\"./app/irsystem/controllers/SPARSE OR NECESSARY/book_similarity_matrix.p\")\n",
    "movie_tf_idf.save(\"./app/irsystem/controllers/SPARSE OR NECESSARY/movie_tf_idf.p\")\n",
    "movie_dictionary.save(\"./app/irsystem/controllers/SPARSE OR NECESSARY/movie_dictionary.p\")\n",
    "movie_similarity_matrix.save(\"./app/irsystem/controllers/SPARSE OR NECESSARY/movie_similarity_matrix.p\")\n",
    "model.save(\"./app/irsystem/controllers/SPARSE OR NECESSARY/model.p\")"
   ]
  },
  {
   "cell_type": "code",
   "execution_count": 174,
   "metadata": {},
   "outputs": [],
   "source": [
    "book_tf_idf = pickle.load(open(\"./app/irsystem/controllers/SPARSE OR NECESSARY/book_tf_idf.p\", \"rb\" ))\n",
    "book_dictionary = pickle.load(open(\"./app/irsystem/controllers/SPARSE OR NECESSARY/book_dictionary.p\", \"rb\" ))\n",
    "book_similarity_matrix = pickle.load(open(\"./app/irsystem/controllers/SPARSE OR NECESSARY/book_similarity_matrix.p\", \"rb\" ))\n",
    "movie_tf_idf = pickle.load(open(\"./app/irsystem/controllers/SPARSE OR NECESSARY/movie_tf_idf.p\", \"rb\" ))\n",
    "movie_dictionary = pickle.load(open(\"./app/irsystem/controllers/SPARSE OR NECESSARY/movie_dictionary.p\", \"rb\" ))\n",
    "movie_similarity_matrix = pickle.load(open(\"./app/irsystem/controllers/SPARSE OR NECESSARY/movie_similarity_matrix.p\", \"rb\" ))\n",
    "model = pickle.load(open(\"./app/irsystem/controllers/SPARSE OR NECESSARY/model.p\", \"rb\" ))"
   ]
  },
  {
   "cell_type": "code",
   "execution_count": 114,
   "metadata": {},
   "outputs": [
    {
     "data": {
      "text/plain": [
       "<gensim.models.keyedvectors.Word2VecKeyedVectors at 0x14e3c07ba20>"
      ]
     },
     "execution_count": 114,
     "metadata": {},
     "output_type": "execute_result"
    }
   ],
   "source": [
    "model"
   ]
  },
  {
   "cell_type": "code",
   "execution_count": 116,
   "metadata": {},
   "outputs": [],
   "source": [
    "all_words = list(book_dictionary.values())\n"
   ]
  },
  {
   "cell_type": "code",
   "execution_count": 117,
   "metadata": {},
   "outputs": [
    {
     "name": "stderr",
     "output_type": "stream",
     "text": [
      "C:\\ProgramData\\Anaconda3\\lib\\site-packages\\ipykernel_launcher.py:1: DeprecationWarning: Call to deprecated `wv` (Attribute will be removed in 4.0.0, use self instead).\n",
      "  \"\"\"Entry point for launching an IPython kernel.\n"
     ]
    }
   ],
   "source": [
    "all_words = [word for word in all_words if word in model.wv.vocab]"
   ]
  },
  {
   "cell_type": "code",
   "execution_count": 210,
   "metadata": {},
   "outputs": [],
   "source": [
    "'''\n",
    "FULL SEARCH ALGORITHM TO USE IN FINAL PROJECT. This returns a numpy array of similarity scores\n",
    "for a title + keyword query\n",
    "\n",
    "Inputs: \n",
    "     - title: the title being queried\n",
    "     - keyword: the keyword being queried\n",
    "     - direction: either 'book to movie' or 'movie to book' \n",
    "\n",
    "Returns: \n",
    "     - similarity_scores: numpy array of similarity scores where the index in the array \n",
    "                          corresponds to the index in the 'to' dataset (ie. if the query\n",
    "                          direction was book to movie, the indices would correspond to the \n",
    "                          indices in the movie tropes dataset)\n",
    "'''\n",
    "def full_search(title, keyword, direction):\n",
    "    \n",
    "    # number of tropes to use to incorporate the keyword\n",
    "    top_k_tropes = 5\n",
    "    \n",
    "    if direction == 'book to movie': \n",
    "        title_dataset = books\n",
    "        dictionary = movie_dictionary\n",
    "        tf_idf = movie_tf_idf\n",
    "        similarity_matrix = movie_similarity_matrix\n",
    "    else: # movie to book\n",
    "        title_dataset = movies\n",
    "        dictionary = book_dictionary\n",
    "        tf_idf = book_tf_idf\n",
    "        similarity_matrix = book_similarity_matrix\n",
    "           \n",
    "    similarity_scores = best_titles_by_tropes_enhanced(title, title_dataset, keyword, dictionary, tf_idf, similarity_matrix, model, top_k_tropes)\n",
    "\n",
    "    return similarity_scores\n",
    "    \n",
    "    "
   ]
  },
  {
   "cell_type": "code",
   "execution_count": 211,
   "metadata": {},
   "outputs": [
    {
     "name": "stderr",
     "output_type": "stream",
     "text": [
      "C:\\ProgramData\\Anaconda3\\lib\\site-packages\\ipykernel_launcher.py:17: DeprecationWarning: Call to deprecated `wv` (Attribute will be removed in 4.0.0, use self instead).\n"
     ]
    },
    {
     "name": "stdout",
     "output_type": "stream",
     "text": [
      "top 5 matches most similar to `gun`\n",
      "gun\n",
      "guns\n",
      "assault\n",
      "weapon\n",
      "rifle\n",
      "['gun', 'guns', 'assault', 'weapon', 'rifle']\n",
      "['gun', 'guns', 'assault', 'weapon', 'rifle', 'dissonance', 'retreat', 'dies', 'relationship', 'parallel', 'ghost', 'aesop', 'dead', 'bonus', 'masquerade', 'gunman', 'plucky', 'punch', 'thin', 'guy', 'instigator', 'tu', 'doing', 'weapon', 'hair', 'die', 'remind', 'confession', 'et', 'knight', 'flasks', 'grey', 'euphemism', 'osmosis', 'brute', 'maid', 'roaring', 'reliable', 'reveal', 'did', 'hot', 'charmless', 'you', 'mortal', 'narcissist', 'bromantic', 'and', 'poor', 'runaway', 'horribly', 'boast', 'pungeon', 'serial', 'retribution', 'busting', 'fighting', 'i', 'cassandra', 'false', 'paper', 'old', 'dramatic', 'hypocrite', 'im', 'ex', 'double', 'women', 'villain', 'morality', 'enter', 'walk', 'clown', 'dark', 'mistake', 'suicide', 'troubled', 'can', 'part', 'idle', 'dropped', 'bridge', 'diabolus', 'sacrificial', 'antagonist', 'mandatory', 'different', 'envy', 'evil', 'adaptation', 'age', 'whats', 'date', 'past', 'pop', 'impulsiveness', 'no', 'my', 'girl', 'messenger', 'convenience', 'gratuitous', 'expert', 'betty', 'attack', 'parental', 'enough', 'killed', 'romantic', 'threatening', 'character', 'fear', 'composite', 'never', 'veronica', 'disguise', 'queen', 'disproportionate', 'spell', 'blood', 'clowns', 'it', 'gone', 'demoted', 'chaperone', 'take', 'barefoot', 'freaking', 'words', 'comedy', 'anyone', 'cycle', 'rules', 'romance', 'or', 'reasonable', 'boy', 'due', 'youth', 'conflicting', 'sage', 'amazingly', 'blooded', 'western', 'pay', 'romeo', 'curse', 'authority', 'him', 'kills', 'spaghetti', 'fatal', 'rapunzel', 'rich', 'machina', 'job', 'emo', 'bus', 'together', 'wooing', 'to', 'cosmic', 'advice', 'they', 'show', 'spared', 'worlds', 'drama', 'extra', 'window', 'in', 'cultural', 'revenge', 'rage', 'fault', 'sexy', 'right', 'fourth', 'above', 'name', 'unwitting', 'figure', 'one', 'ambiguously', 'replacement', 'team', 'trigger', 'timespan', 'break', 'versus', 'entendre', 'apothecary', 'shoo', 'genre', 'lost', 'wound', 'parents', 'lead', 'bedsheet', 'discretion', 'does', 'trio', 'a', 'who', 'good', 'ignored', 'rampage', 'hates', 'wiser', 'maiden', 'garden', 'fate', 'deliberate', 'at', 'gay', 'driven', 'unto', 'values', 'loyalty', 'on', 'out', 'downer', 'color', 'tempting', 'families', 'temper', 'freudian', 'foil', 'lift', 'teen', 'crossed', 'scene', 'death', 'feminine', 'doom', 'communication', 'didnt', 'nod', 'meaningful', 'have', 'nice', 'lovers', 'crazy', 'dumb', 'foregone', 'is', 'unusual', 'for', 'cunningham', 'short', 'too', 'laboratory', 'cutie', 'informed', 'modesty', 'conclusion', 'backfire', 'time', 'coded', 'gallows', 'tragic', 'dying', 'chessmaster', 'embarrassing', 'daddy', 'elopement', 'beware', 'first', 'black', 'syndrome', 'hell', 'need', 'nonindicative', 'sight', 'this', 'oh', 'puns', 'forgotten', 'ending', 'despair', 'what', 's', 'within', 'anti', 'dating', 'with', 'getting', 'swordsman', 'ball', 'drink', 'everyone', 'love', 'hate', 'barkeep', 'idiot', 'feuding', 'live', 'exact', 'impeded', 'gray', 'mediator', 'crash', 'filibuster', 'masculine', 'courtly', 'hang', 'cargo', 'hero', 'an', 'flaw', 'extremely', 'the', 'porn', 'plaything', 'friend', 'anything', 'master', 'by', 'razor', 'house', 'young', 'motherhood', 'convention', 'bilingual', 'are', 'inspiration', 'faux', 'sad', 'unstoppable', 'so', 'chekhovs', 'large', 'of', 'alligator', 'tag', 'shot', 'work', 'adult', 'titles', 'veto', 'that', 'child', 'radar', 'friends', 'screw', 'ham', 'stage', 'your', 'fiancee', 'star', 'marriage', 'hufflepuff', 'calls', 'chuck', 'prince', 'ones', 'translation', 'breaking', 'goldfish', 'tragedy', 'all', 'secret', 'lion', 'hanlons', 'crap', 'rape', 'publicity', 'fallen', 'dance', 'not', 'hurricane', 'substitute', 'badass', 'gut', 'balcony', 'matron', 'humor', 'wasted', 'improvised']\n"
     ]
    }
   ],
   "source": [
    "# example query \n",
    "scores = full_search('Romeo And Juliet', 'gun', 'book to movie')"
   ]
  },
  {
   "cell_type": "code",
   "execution_count": 204,
   "metadata": {},
   "outputs": [
    {
     "data": {
      "image/png": "[encoded data removed]",
      "text/plain": [
       "<matplotlib.figure.Figure at 0x14e2d3322e8>"
      ]
     },
     "metadata": {},
     "output_type": "display_data"
    }
   ],
   "source": [
    "from matplotlib import pyplot as plt\n",
    "%matplotlib inline\n",
    "\n",
    "plt.hist(scores*5, bins=50, alpha=0.5)\n",
    "plt.show()"
   ]
  },
  {
   "cell_type": "code",
   "execution_count": 164,
   "metadata": {},
   "outputs": [
    {
     "name": "stdout",
     "output_type": "stream",
     "text": [
      "\n",
      "top 10 most similar titles to `` by trope to keyword `` \n",
      "(0.13669595, 'Fight Club')\n",
      "(0.13626686, 'A Quiet Place')\n",
      "(0.1338901, 'Raise the Red Lantern')\n",
      "(0.13302472, 'Amores Perros')\n",
      "(0.13059594, 'Southpaw')\n",
      "(0.13056025, 'Shaolin Soccer')\n",
      "(0.1292871, 'Mr. Smith Goes to Washington')\n",
      "(0.12535769, 'Premonition')\n",
      "(0.123279065, 'X-Men: First Class')\n",
      "(0.12259054, \"Mr. Popper's Penguins\")\n"
     ]
    }
   ],
   "source": [
    "# example to print nice list of ranked results \n",
    "print_results('', '', scores, movies, 10)"
   ]
  },
  {
   "cell_type": "code",
   "execution_count": null,
   "metadata": {},
   "outputs": [],
   "source": []
  }
 ],
 "metadata": {
  "kernelspec": {
   "display_name": "Python 3",
   "language": "python",
   "name": "python3"
  },
  "language_info": {
   "codemirror_mode": {
    "name": "ipython",
    "version": 3
   },
   "file_extension": ".py",
   "mimetype": "text/x-python",
   "name": "python",
   "nbconvert_exporter": "python",
   "pygments_lexer": "ipython3",
   "version": "3.6.4"
  }
 },
 "nbformat": 4,
 "nbformat_minor": 2
}
