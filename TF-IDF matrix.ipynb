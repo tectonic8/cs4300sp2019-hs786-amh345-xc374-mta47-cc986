{
 "cells": [
  {
   "cell_type": "code",
   "execution_count": 1,
   "metadata": {},
   "outputs": [],
   "source": [
    "from sklearn.feature_extraction.text import TfidfVectorizer\n",
    "import numpy as np\n",
    "import json\n",
    "import math\n",
    "import pickle\n",
    "import re\n",
    "from matplotlib import pyplot as plt\n",
    "from collections import defaultdict\n",
    "import scipy\n",
    "%matplotlib inline"
   ]
  },
  {
   "cell_type": "code",
   "execution_count": 2,
   "metadata": {},
   "outputs": [],
   "source": [
    "with open(\"./app/irsystem/controllers/TVTropesScraper/Film/Film_tropes_dataset3.json\", 'r') as f:\n",
    "    movie_tropes_data = json.load(f)\n",
    "with open(\"./app/irsystem/controllers/TVTropesScraper/Literature/Literature_tropes_dataset3.json\", 'r') as f:\n",
    "    book_tropes_data = json.load(f)"
   ]
  },
  {
   "cell_type": "code",
   "execution_count": 5,
   "metadata": {},
   "outputs": [],
   "source": [
    "with open(\"./app/irsystem/controllers/DatasetInfo/book_dataset.json\", 'r', encoding='utf-8') as json_file:  \n",
    "    alena_books = json.loads(json_file.read())\n",
    "with open(\"./app/irsystem/controllers/DatasetInfo/movie_dataset.json\", 'r', encoding='utf-8') as json_file:  \n",
    "    alena_movies = json.loads(json_file.read())\n",
    "# movielens_reviews = pickle.load(open(\"./app/irsystem/controllers/DatasetInfo/movielens_reviews.p\", \"rb\" ))"
   ]
  },
  {
   "cell_type": "code",
   "execution_count": 6,
   "metadata": {},
   "outputs": [],
   "source": [
    "inverted_index_books = defaultdict(list)\n",
    "for book, trope_list in book_tropes_data.items():\n",
    "    for trope in trope_list:\n",
    "        inverted_index_books[trope].append(book)\n",
    "\n",
    "inverted_index_movies = defaultdict(list)\n",
    "for movie, trope_list in movie_tropes_data.items():\n",
    "    for trope in trope_list:\n",
    "        inverted_index_movies[trope].append(movie)"
   ]
  },
  {
   "cell_type": "code",
   "execution_count": 7,
   "metadata": {},
   "outputs": [],
   "source": [
    "movie_titles = []\n",
    "for k, v in alena_movies.items():\n",
    "    movie_titles.append((k, v['idx']))\n",
    "movie_titles.sort(key=lambda pair : pair[1])\n",
    "movie_titles = [k[0] for k in movie_titles]\n",
    "\n",
    "book_titles = []\n",
    "for k, v in alena_books.items():\n",
    "    book_titles.append((k, v['idx']))\n",
    "book_titles.sort(key=lambda pair : pair[1])\n",
    "book_titles = [k[0] for k in book_titles]"
   ]
  },
  {
   "cell_type": "code",
   "execution_count": 8,
   "metadata": {},
   "outputs": [],
   "source": [
    "common_tropes = set(inverted_index_movies.keys()) | set(inverted_index_books.keys())\n",
    "# common_tropes = {s.lower() for s in common_tropes}\n",
    "tf_idf = TfidfVectorizer(min_df=3, lowercase=False, vocabulary = common_tropes, norm='l2', use_idf=True, binary=True)\n",
    "movie_by_trope = tf_idf.fit_transform([' '.join(movie_tropes_data[movie_titles[i]]) for i in range(len(movie_titles))]).toarray()\n",
    "book_by_trope = tf_idf.fit_transform([' '.join(book_tropes_data[book_titles[i]]) for i in range(len(book_titles))]).toarray()\n",
    "\n",
    "trope_to_col = tf_idf.vocabulary_\n",
    "col_to_trope_list = tf_idf.get_feature_names()"
   ]
  },
  {
   "cell_type": "code",
   "execution_count": 9,
   "metadata": {},
   "outputs": [
    {
     "ename": "NameError",
     "evalue": "name 'movielens_reviews' is not defined",
     "output_type": "error",
     "traceback": [
      "\u001b[1;31m---------------------------------------------------------------------------\u001b[0m",
      "\u001b[1;31mNameError\u001b[0m                                 Traceback (most recent call last)",
      "\u001b[1;32m<ipython-input-9-2c043a6cd915>\u001b[0m in \u001b[0;36m<module>\u001b[1;34m()\u001b[0m\n\u001b[0;32m     12\u001b[0m \u001b[1;32mfor\u001b[0m \u001b[0mj\u001b[0m \u001b[1;32min\u001b[0m \u001b[0mrange\u001b[0m\u001b[1;33m(\u001b[0m\u001b[0mlen\u001b[0m\u001b[1;33m(\u001b[0m\u001b[0mmovie_titles\u001b[0m\u001b[1;33m)\u001b[0m\u001b[1;33m)\u001b[0m\u001b[1;33m:\u001b[0m\u001b[1;33m\u001b[0m\u001b[0m\n\u001b[0;32m     13\u001b[0m     \u001b[0mpopularity_boost\u001b[0m \u001b[1;33m=\u001b[0m \u001b[1;36m0\u001b[0m\u001b[1;33m\u001b[0m\u001b[0m\n\u001b[1;32m---> 14\u001b[1;33m     \u001b[1;32mif\u001b[0m \u001b[0mmovie_titles\u001b[0m\u001b[1;33m[\u001b[0m\u001b[0mj\u001b[0m\u001b[1;33m]\u001b[0m \u001b[1;32min\u001b[0m \u001b[0mmovielens_reviews\u001b[0m\u001b[1;33m:\u001b[0m\u001b[1;33m\u001b[0m\u001b[0m\n\u001b[0m\u001b[0;32m     15\u001b[0m         \u001b[0mz\u001b[0m \u001b[1;33m=\u001b[0m \u001b[1;33m(\u001b[0m\u001b[0mmovielens_reviews\u001b[0m\u001b[1;33m[\u001b[0m\u001b[0mmovie_titles\u001b[0m\u001b[1;33m[\u001b[0m\u001b[0mj\u001b[0m\u001b[1;33m]\u001b[0m\u001b[1;33m]\u001b[0m\u001b[1;33m[\u001b[0m\u001b[1;36m0\u001b[0m\u001b[1;33m]\u001b[0m\u001b[1;33m-\u001b[0m\u001b[1;36m2000\u001b[0m\u001b[1;33m)\u001b[0m\u001b[1;33m/\u001b[0m\u001b[1;36m8000\u001b[0m \u001b[1;31m# z-score of number of reviews\u001b[0m\u001b[1;33m\u001b[0m\u001b[0m\n\u001b[0;32m     16\u001b[0m         \u001b[0mpopularity_boost\u001b[0m \u001b[1;33m+=\u001b[0m \u001b[0mpopularity_multiplier\u001b[0m\u001b[1;33m(\u001b[0m\u001b[0mz\u001b[0m\u001b[1;33m,\u001b[0m \u001b[0mstrength\u001b[0m\u001b[1;33m=\u001b[0m\u001b[1;36m2\u001b[0m\u001b[1;33m)\u001b[0m\u001b[1;33m/\u001b[0m\u001b[1;36m5\u001b[0m\u001b[1;33m\u001b[0m\u001b[0m\n",
      "\u001b[1;31mNameError\u001b[0m: name 'movielens_reviews' is not defined"
     ]
    }
   ],
   "source": [
    "def popularity_multiplier(z, strength=1): \n",
    "    \"\"\"A multiplier between 1 to ~1.6 based on a z-score.\"\"\"\n",
    "    z += 4.5\n",
    "    z = min(z, 7)\n",
    "    z = max(z, 2)\n",
    "    return strength*math.log(z/2.0)+1\n",
    "\n",
    "\n",
    "movies_popularity = np.zeros(len(movie_titles))\n",
    "books_popularity = np.zeros(len(book_titles))\n",
    "\n",
    "for j in range(len(movie_titles)):\n",
    "    popularity_boost = 0\n",
    "    if movie_titles[j] in movielens_reviews:\n",
    "        z = (movielens_reviews[movie_titles[j]][0]-2000)/8000 # z-score of number of reviews\n",
    "        popularity_boost += popularity_multiplier(z, strength=2)/5\n",
    "        z = (movielens_reviews[movie_titles[j]][1]-3)/0.5  # z-score of 5-star rating\n",
    "        popularity_boost += popularity_multiplier(z, strength=2)/5\n",
    "    movies_popularity[j] = popularity_boost\n",
    "\n",
    "for i in range(len(book_titles)):\n",
    "    popularity_boost = 0\n",
    "    if 'num_reviews' in alena_books[book_titles[i]]:\n",
    "        z = (alena_books[book_titles[i]]['num_reviews']-54)/364\n",
    "        popularity_boost += popularity_multiplier(z, strength=0.3)/2.2\n",
    "    if 'rating' in alena_books[book_titles[i]]:\n",
    "        z = (alena_books[book_titles[i]]['rating']-3)/0.5\n",
    "        popularity_boost += popularity_multiplier(z, strength=0.3)/2.2\n",
    "    books_popularity[i] = popularity_boost"
   ]
  },
  {
   "cell_type": "code",
   "execution_count": 10,
   "metadata": {},
   "outputs": [
    {
     "data": {
      "image/png": "[encoded data removed]",
      "text/plain": [
       "<matplotlib.figure.Figure at 0x2680679f9e8>"
      ]
     },
     "metadata": {},
     "output_type": "display_data"
    }
   ],
   "source": [
    "plt.hist(books_popularity, bins=50, alpha=0.5)\n",
    "plt.show()"
   ]
  },
  {
   "cell_type": "code",
   "execution_count": 14,
   "metadata": {},
   "outputs": [
    {
     "data": {
      "image/png": "[encoded data removed]",
      "text/plain": [
       "<matplotlib.figure.Figure at 0x28b2662f828>"
      ]
     },
     "metadata": {},
     "output_type": "display_data"
    }
   ],
   "source": [
    "plt.hist(movies_popularity, bins=50, alpha=0.5)\n",
    "plt.show()"
   ]
  },
  {
   "cell_type": "markdown",
   "metadata": {},
   "source": [
    "I've adjusted it so the books' popularity boosts are smaller for books because the popularity data is sparse and weak for books. The movie popularity boosts are weaker now too.  "
   ]
  },
  {
   "cell_type": "code",
   "execution_count": 15,
   "metadata": {},
   "outputs": [],
   "source": [
    "def top_tropes_from_vector(v, col_to_trope_list):\n",
    "    top_dot = np.argsort(-v)\n",
    "    top_tropes = []\n",
    "    for i in top_dot[:5]:\n",
    "        if v[i] != 0:\n",
    "            top_tropes.append(col_to_trope_list[i])\n",
    "    return top_tropes\n",
    "\n",
    "def find_relevant_matrix(title, direction='mb', popularity_weight=0):\n",
    "#     mod_mbt = np.where(movie_by_trope==0, -x, movie_by_trope*y)\n",
    "#     mod_bbt = np.where(book_by_trope==0, -x*c, book_by_trope*y*c)\n",
    "\n",
    "    if popularity_weight is None: popularity_weight = 0\n",
    "    popularity_weight = float(popularity_weight)\n",
    "    \n",
    "    if direction=='mb':\n",
    "        i = movie_titles.index(title)\n",
    "        query_vec = movie_by_trope[i]\n",
    "        similarities = np.matmul(book_by_trope, query_vec)\n",
    "        if popularity_weight > 0:\n",
    "            similarities = np.multiply(similarities, popularity_weight * books_popularity)\n",
    "        sorted_titles = np.flip(np.argsort(similarities), axis=0)\n",
    "        for i in range(7):\n",
    "            print(\"{} \\x1b[31m{:.3f}\\x1b[0m\".format(book_titles[sorted_titles[i]], similarities[sorted_titles[i]])) \n",
    "            dot = np.multiply(movie_by_trope[sorted_titles[i]], query_vec)\n",
    "            top_tropes = top_tropes_from_vector(dot, col_to_trope_list)\n",
    "            print(top_tropes)\n",
    "    elif direction=='bm':\n",
    "        i = book_titles.index(title)\n",
    "        query_vec = book_by_trope[i]\n",
    "        similarities = np.matmul(movie_by_trope, query_vec)\n",
    "        if popularity_weight > 0:\n",
    "            similarities = np.multiply(similarities, popularity_weight * movies_popularity)\n",
    "        sorted_titles = np.flip(np.argsort(similarities), axis=0)\n",
    "        for i in range(7):\n",
    "            print(\"{} \\x1b[31m{:.3f}\\x1b[0m\".format(movie_titles[sorted_titles[i]], similarities[sorted_titles[i]])) \n",
    "            dot = np.multiply(movie_by_trope[sorted_titles[i]], query_vec)\n",
    "            top_tropes = top_tropes_from_vector(dot, col_to_trope_list)\n",
    "            print(top_tropes)"
   ]
  },
  {
   "cell_type": "code",
   "execution_count": 16,
   "metadata": {},
   "outputs": [
    {
     "name": "stdout",
     "output_type": "stream",
     "text": [
      "The Hunger Games \u001b[31m0.150\u001b[0m\n",
      "['DeadlyGame', 'AfterActionHealingDrama', 'ChildrenForcedToKill', 'ChekhovsClassroom', 'GuysSmashGirlsShoot']\n",
      "The Hunger Games: Mockingjay - Part 1 \u001b[31m0.136\u001b[0m\n",
      "['VoiceOfTheResistance', 'DeathCourse', 'DieLaughing', 'HerHeartWillGoOn', 'PresidentEvil']\n",
      "The Hunger Games: Mockingjay - Part 2 \u001b[31m0.133\u001b[0m\n",
      "['VoiceOfTheResistance', 'DeathCourse', 'DieLaughing', 'HerHeartWillGoOn', 'PresidentEvil']\n",
      "Snowpiercer \u001b[31m0.120\u001b[0m\n",
      "['FirstWorldProblems', 'NotInThisForYourRevolution', 'NecessarilyEvil', 'LastRequest', 'ChekhovsHobby']\n",
      "Mad Max: Fury Road \u001b[31m0.117\u001b[0m\n",
      "['TrickArrow', 'WaterWakeup', 'AfterActionHealingDrama', 'FilkSong', 'StrangeSalute']\n",
      "The Dark Knight Rises \u001b[31m0.112\u001b[0m\n",
      "['VillainsNeverLie', 'HollywoodHealing', 'BadGuysDoTheDirtyWork', 'NonActionBigBad', 'TheRevolutionWillNotBeCivilized']\n",
      "The Truman Show \u001b[31m0.111\u001b[0m\n",
      "['RealityShow', 'TrumanShowPlot', 'WeatherControlMachine', 'EnforcedMethodActing', 'Utopia']\n"
     ]
    }
   ],
   "source": [
    "find_relevant_matrix(\"The Hunger Games\", direction='bm', popularity_weight=1)"
   ]
  },
  {
   "cell_type": "code",
   "execution_count": null,
   "metadata": {},
   "outputs": [],
   "source": []
  },
  {
   "cell_type": "markdown",
   "metadata": {},
   "source": [
    "The only relevant data structures are `movie_by_trope`, `book_by_trope`, `movies_popularity`, `books_popularity`, `common_tropes`"
   ]
  },
  {
   "cell_type": "code",
   "execution_count": 177,
   "metadata": {},
   "outputs": [],
   "source": [
    "sparse_mbt = scipy.sparse.csr_matrix(movie_by_trope)\n",
    "sparse_bbt = scipy.sparse.csr_matrix(book_by_trope)\n",
    "# books_popularity\n",
    "# common_tropes\n",
    "scipy.sparse.save_npz(\"./app/irsystem/controllers/SPARSE OR NECESSARY/sparse_mbt.npz\", scipy.sparse.csr_matrix(sparse_mbt))\n",
    "scipy.sparse.save_npz(\"./app/irsystem/controllers/SPARSE OR NECESSARY/sparse_bbt.npz\", scipy.sparse.csr_matrix(sparse_bbt))\n",
    "# sparse_matrix = scipy.sparse.load_npz('<filepath>')"
   ]
  },
  {
   "cell_type": "code",
   "execution_count": 193,
   "metadata": {},
   "outputs": [],
   "source": [
    "pickle.dump(movies_popularity, open(\"./app/irsystem/controllers/SPARSE OR NECESSARY/movie_popularities.p\", \"wb\"))\n",
    "pickle.dump(books_popularity, open(\"./app/irsystem/controllers/SPARSE OR NECESSARY/book_popularities.p\", \"wb\"))   \n",
    "pickle.dump(common_tropes, open(\"./app/irsystem/controllers/SPARSE OR NECESSARY/common_tropes.p\", \"wb\"))       \n",
    "pickle.dump(col_to_trope_list, open(\"./app/irsystem/controllers/SPARSE OR NECESSARY/col_to_trope_list.p\", \"wb\"))       \n",
    "pickle.dump(movie_titles, open(\"./app/irsystem/controllers/SPARSE OR NECESSARY/movie_titles.p\", \"wb\"))       \n",
    "pickle.dump(book_titles, open(\"./app/irsystem/controllers/SPARSE OR NECESSARY/book_titles.p\", \"wb\"))       \n",
    "\n",
    "\n",
    "\n",
    "\n",
    "\n"
   ]
  },
  {
   "cell_type": "code",
   "execution_count": 195,
   "metadata": {},
   "outputs": [
    {
     "data": {
      "text/plain": [
       "3115"
      ]
     },
     "execution_count": 195,
     "metadata": {},
     "output_type": "execute_result"
    }
   ],
   "source": [
    "movie_titles.index('The Breakfast Club')"
   ]
  },
  {
   "cell_type": "code",
   "execution_count": 181,
   "metadata": {},
   "outputs": [],
   "source": [
    "movie_popularities = pickle.load(open(\"./app/irsystem/controllers/SPARSE OR NECESSARY/movie_popularities.p\", \"rb\" ))\n",
    "book_popularities = pickle.load(open(\"./app/irsystem/controllers/SPARSE OR NECESSARY/book_popularities.p\", \"rb\" ))"
   ]
  },
  {
   "cell_type": "code",
   "execution_count": 175,
   "metadata": {},
   "outputs": [],
   "source": [
    "def top_tropes_from_vector(v, col_to_trope_list):\n",
    "    top_dot = np.argsort(-v)\n",
    "    top_tropes = []\n",
    "    for i in top_dot[:5]:\n",
    "        if v[i] != 0:\n",
    "            top_tropes.append(col_to_trope_list[i])\n",
    "    return top_tropes\n",
    "\n",
    "def find_relevant_matrix(title, direction='mb', popularity_weight=0):\n",
    "    if popularity_weight is None: popularity_weight = 0\n",
    "    popularity_weight = float(popularity_weight)\n",
    "    \n",
    "    if direction=='mb':\n",
    "        i = movie_titles.index(title)\n",
    "        query_vec = sparse_mbt[i]\n",
    "        similarities = np.ndarray.flatten((sparse_bbt @ query_vec.T).A)\n",
    "        if popularity_weight > 0:\n",
    "            similarities = np.multiply(similarities, popularity_weight * books_popularity)\n",
    "        sorted_titles = np.flip(np.argsort(similarities), axis=0)\n",
    "        for i in range(7):\n",
    "            print(\"{} \\x1b[31m{:.3f}\\x1b[0m\".format(book_titles[sorted_titles[i]], similarities[sorted_titles[i]])) \n",
    "            dot = np.ndarray.flatten(sparse_bbt[sorted_titles[i]].multiply(query_vec).A)\n",
    "            top_tropes = top_tropes_from_vector(dot, col_to_trope_list)\n",
    "            print(top_tropes)\n",
    "    elif direction=='bm':\n",
    "        i = book_titles.index(title)\n",
    "        query_vec = sparse_bbt[i]\n",
    "        similarities = np.ndarray.flatten((sparse_mbt @ query_vec.T).A)\n",
    "        if popularity_weight > 0:\n",
    "            similarities = np.multiply(similarities, popularity_weight * movies_popularity)\n",
    "        sorted_titles = np.flip(np.argsort(similarities), axis=0)\n",
    "        for i in range(7):\n",
    "            print(\"{} \\x1b[31m{:.3f}\\x1b[0m\".format(movie_titles[sorted_titles[i]], similarities[sorted_titles[i]])) \n",
    "            dot = np.ndarray.flatten(sparse_mbt[sorted_titles[i]].multiply(query_vec).A)\n",
    "            top_tropes = top_tropes_from_vector(dot, col_to_trope_list)\n",
    "            print(top_tropes)"
   ]
  },
  {
   "cell_type": "code",
   "execution_count": 186,
   "metadata": {},
   "outputs": [
    {
     "name": "stdout",
     "output_type": "stream",
     "text": [
      "I, Robot \u001b[31m0.083\u001b[0m\n",
      "['ThankTheMaker', 'BenevolentAI', 'ZerothLawRebellion', 'RobotBuddy', 'LogicBomb']\n",
      "Neuromancer \u001b[31m0.078\u001b[0m\n",
      "['ZeroesAndOnes', 'InsideAComputerSystem', 'Cyberspace', 'VoiceWithAnInternetConnection', 'YearInsideHourOutside']\n",
      "Gateway \u001b[31m0.065\u001b[0m\n",
      "['RobotBuddy', 'BrainUploading', 'CoolShip', 'MegaCorp']\n",
      "The Metamorphosis Of Prime Intellect \u001b[31m0.063\u001b[0m\n",
      "['Cyberspace', 'LogicBomb', 'CorruptCorporateExecutive', 'ShoutOut']\n",
      "The Quantum Thief \u001b[31m0.062\u001b[0m\n",
      "['YouWillBeAssimilated', 'YouAllMeetInACell', 'YearInsideHourOutside', 'CoolShip', 'AIIsACrapshoot']\n",
      "Lone Wolf \u001b[31m0.061\u001b[0m\n",
      "['DeadlyDisc', 'StabTheSky', 'AttackReflector', 'ForcedPrizeFight', 'XRaySparks']\n",
      "Ready Player One \u001b[31m0.061\u001b[0m\n",
      "['NoBodyLeftBehind', 'TechnologyPorn', 'HappinessInSlavery', 'InfoDump', 'DeadlyEuphemism']\n"
     ]
    }
   ],
   "source": [
    "find_relevant_matrix(\"TRON\", direction='mb', popularity_weight=1)"
   ]
  },
  {
   "cell_type": "code",
   "execution_count": null,
   "metadata": {},
   "outputs": [],
   "source": [
    "col_to_trope_list"
   ]
  },
  {
   "cell_type": "code",
   "execution_count": 57,
   "metadata": {},
   "outputs": [
    {
     "data": {
      "text/plain": [
       "(4797, 25977)"
      ]
     },
     "execution_count": 57,
     "metadata": {},
     "output_type": "execute_result"
    }
   ],
   "source": [
    "sparse_mbt.shape"
   ]
  },
  {
   "cell_type": "code",
   "execution_count": 59,
   "metadata": {},
   "outputs": [
    {
     "data": {
      "text/plain": [
       "(1, 25977)"
      ]
     },
     "execution_count": 59,
     "metadata": {},
     "output_type": "execute_result"
    }
   ],
   "source": [
    "sparse_bbt[0].shape"
   ]
  },
  {
   "cell_type": "code",
   "execution_count": 117,
   "metadata": {},
   "outputs": [
    {
     "data": {
      "text/plain": [
       "array([0.        , 0.01152327, 0.        , ..., 0.02117177, 0.        ,\n",
       "       0.01343013])"
      ]
     },
     "execution_count": 117,
     "metadata": {},
     "output_type": "execute_result"
    }
   ],
   "source": [
    "np.ndarray.flatten((sparse_mbt @ sparse_bbt[0].T).A)"
   ]
  },
  {
   "cell_type": "code",
   "execution_count": null,
   "metadata": {},
   "outputs": [],
   "source": [
    "movie_titles"
   ]
  },
  {
   "cell_type": "code",
   "execution_count": 11,
   "metadata": {},
   "outputs": [],
   "source": [
    "sparse_mbt = scipy.sparse.load_npz(\"./app/irsystem/controllers/SPARSE OR NECESSARY/sparse_mbt.npz\")\n",
    "sparse_bbt = scipy.sparse.load_npz(\"./app/irsystem/controllers/SPARSE OR NECESSARY/sparse_bbt.npz\")"
   ]
  },
  {
   "cell_type": "code",
   "execution_count": 38,
   "metadata": {},
   "outputs": [],
   "source": [
    "a = (sparse_mbt[1] + 0.3 * sparse_bbt[20]).A[0]"
   ]
  },
  {
   "cell_type": "code",
   "execution_count": 39,
   "metadata": {},
   "outputs": [],
   "source": [
    "b = movie_by_trope[1] + 0.3 * book_by_trope[20]"
   ]
  },
  {
   "cell_type": "code",
   "execution_count": 40,
   "metadata": {},
   "outputs": [
    {
     "data": {
      "text/plain": [
       "False"
      ]
     },
     "execution_count": 40,
     "metadata": {},
     "output_type": "execute_result"
    }
   ],
   "source": [
    "False in (a == b)"
   ]
  },
  {
   "cell_type": "code",
   "execution_count": 44,
   "metadata": {},
   "outputs": [
    {
     "data": {
      "text/plain": [
       "[0.23528022952621946,\n",
       " 0.22348765446987937,\n",
       " 0.2086307669387451,\n",
       " 0.2086307669387451,\n",
       " 0.2086307669387451,\n",
       " 0.2058587591222897,\n",
       " 0.2058587591222897,\n",
       " 0.20332811425695646,\n",
       " 0.20100014664870283,\n",
       " 0.20100014664870283]"
      ]
     },
     "execution_count": 44,
     "metadata": {},
     "output_type": "execute_result"
    }
   ],
   "source": [
    "sorted(a, reverse=True)[:10]"
   ]
  },
  {
   "cell_type": "code",
   "execution_count": 45,
   "metadata": {},
   "outputs": [
    {
     "data": {
      "text/plain": [
       "[0.23528022952621946,\n",
       " 0.22348765446987937,\n",
       " 0.2086307669387451,\n",
       " 0.2086307669387451,\n",
       " 0.2086307669387451,\n",
       " 0.2058587591222897,\n",
       " 0.2058587591222897,\n",
       " 0.20332811425695646,\n",
       " 0.20100014664870283,\n",
       " 0.20100014664870283]"
      ]
     },
     "execution_count": 45,
     "metadata": {},
     "output_type": "execute_result"
    }
   ],
   "source": [
    "sorted(b, reverse=True)[:10]"
   ]
  }
 ],
 "metadata": {
  "kernelspec": {
   "display_name": "Python 3",
   "language": "python",
   "name": "python3"
  },
  "language_info": {
   "codemirror_mode": {
    "name": "ipython",
    "version": 3
   },
   "file_extension": ".py",
   "mimetype": "text/x-python",
   "name": "python",
   "nbconvert_exporter": "python",
   "pygments_lexer": "ipython3",
   "version": "3.6.4"
  }
 },
 "nbformat": 4,
 "nbformat_minor": 2
}
